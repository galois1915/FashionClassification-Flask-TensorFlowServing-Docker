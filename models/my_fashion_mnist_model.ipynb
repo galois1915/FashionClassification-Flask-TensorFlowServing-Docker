{
 "cells": [
  {
   "cell_type": "code",
   "execution_count": 1,
   "metadata": {},
   "outputs": [
    {
     "name": "stderr",
     "output_type": "stream",
     "text": [
      "2024-02-28 10:40:24.149298: I external/local_tsl/tsl/cuda/cudart_stub.cc:31] Could not find cuda drivers on your machine, GPU will not be used.\n",
      "2024-02-28 10:40:24.188747: E external/local_xla/xla/stream_executor/cuda/cuda_dnn.cc:9261] Unable to register cuDNN factory: Attempting to register factory for plugin cuDNN when one has already been registered\n",
      "2024-02-28 10:40:24.188802: E external/local_xla/xla/stream_executor/cuda/cuda_fft.cc:607] Unable to register cuFFT factory: Attempting to register factory for plugin cuFFT when one has already been registered\n",
      "2024-02-28 10:40:24.189839: E external/local_xla/xla/stream_executor/cuda/cuda_blas.cc:1515] Unable to register cuBLAS factory: Attempting to register factory for plugin cuBLAS when one has already been registered\n",
      "2024-02-28 10:40:24.195437: I external/local_tsl/tsl/cuda/cudart_stub.cc:31] Could not find cuda drivers on your machine, GPU will not be used.\n",
      "2024-02-28 10:40:24.195847: I tensorflow/core/platform/cpu_feature_guard.cc:182] This TensorFlow binary is optimized to use available CPU instructions in performance-critical operations.\n",
      "To enable the following instructions: AVX2 FMA, in other operations, rebuild TensorFlow with the appropriate compiler flags.\n",
      "2024-02-28 10:40:25.077344: W tensorflow/compiler/tf2tensorrt/utils/py_utils.cc:38] TF-TRT Warning: Could not find TensorRT\n"
     ]
    }
   ],
   "source": [
    "import tensorflow  as tf    \n",
    "import matplotlib.pyplot as plt\n",
    "import pandas as pd\n",
    "from pathlib import Path\n",
    "from time import strftime\n",
    "import numpy as np"
   ]
  },
  {
   "cell_type": "markdown",
   "metadata": {},
   "source": [
    "## Data"
   ]
  },
  {
   "cell_type": "code",
   "execution_count": 2,
   "metadata": {},
   "outputs": [
    {
     "name": "stdout",
     "output_type": "stream",
     "text": [
      "(5000, 28, 28)\n",
      "255\n",
      "0\n",
      "uint8\n"
     ]
    }
   ],
   "source": [
    "fashion_mnist = tf.keras.datasets.fashion_mnist.load_data()\n",
    "\n",
    "(X_train_full, y_train_full), (X_test, y_test) = fashion_mnist\n",
    "X_train, y_train = X_train_full[:5000], y_train_full[:5000]\n",
    "X_valid, y_valid = X_train_full[5000:], y_train_full[5000:]\n",
    "\n",
    "print(X_train.shape)\n",
    "print(X_train[0].max())\n",
    "print(X_train[0].min())\n",
    "print(X_train.dtype)\n",
    "\n",
    "X_train, X_valid, X_test = X_train/255., X_valid/255., X_test/255.\n",
    "\n",
    "class_names = [\"T-shirt/top\", \"Trouser\", \"Pullover\", \"Dress\", \"Coat\", \"Sandal\", \"Shirt\", \"Sneaker\", \"Bag\", \"Ankle boot\"]"
   ]
  },
  {
   "cell_type": "code",
   "execution_count": 3,
   "metadata": {},
   "outputs": [
    {
     "data": {
      "text/plain": [
       "Text(0.5, 1.0, 'Dress')"
      ]
     },
     "execution_count": 3,
     "metadata": {},
     "output_type": "execute_result"
    },
    {
     "data": {
      "image/png": "[encoded data removed]",
      "text/plain": [
       "<Figure size 640x480 with 1 Axes>"
      ]
     },
     "metadata": {},
     "output_type": "display_data"
    }
   ],
   "source": [
    "plt.imshow(X_train[20])\n",
    "plt.title(class_names[y_train[20]])"
   ]
  },
  {
   "cell_type": "markdown",
   "metadata": {},
   "source": [
    "## Model"
   ]
  },
  {
   "cell_type": "code",
   "execution_count": 4,
   "metadata": {},
   "outputs": [
    {
     "name": "stdout",
     "output_type": "stream",
     "text": [
      "Model: \"sequential\"\n",
      "_________________________________________________________________\n",
      " Layer (type)                Output Shape              Param #   \n",
      "=================================================================\n",
      " flatten (Flatten)           (None, 784)               0         \n",
      "                                                                 \n",
      " dense (Dense)               (None, 300)               235500    \n",
      "                                                                 \n",
      " dense_1 (Dense)             (None, 100)               30100     \n",
      "                                                                 \n",
      " dense_2 (Dense)             (None, 10)                1010      \n",
      "                                                                 \n",
      "=================================================================\n",
      "Total params: 266610 (1.02 MB)\n",
      "Trainable params: 266610 (1.02 MB)\n",
      "Non-trainable params: 0 (0.00 Byte)\n",
      "_________________________________________________________________\n"
     ]
    }
   ],
   "source": [
    "tf.random.set_seed(42)\n",
    "model = tf.keras.Sequential()\n",
    "model.add(tf.keras.layers.Input(shape=[28,28]))\n",
    "model.add(tf.keras.layers.Flatten())\n",
    "model.add(tf.keras.layers.Dense(300, activation=\"relu\"))\n",
    "model.add(tf.keras.layers.Dense(100, activation=\"relu\"))\n",
    "model.add(tf.keras.layers.Dense(10, activation=\"softmax\"))\n",
    "\n",
    "model.summary()"
   ]
  },
  {
   "cell_type": "code",
   "execution_count": 12,
   "metadata": {},
   "outputs": [
    {
     "data": {
      "text/plain": [
       "'input_1'"
      ]
     },
     "execution_count": 12,
     "metadata": {},
     "output_type": "execute_result"
    }
   ],
   "source": [
    "model.input_names[0]"
   ]
  },
  {
   "cell_type": "markdown",
   "metadata": {},
   "source": [
    "## Train"
   ]
  },
  {
   "cell_type": "code",
   "execution_count": 9,
   "metadata": {},
   "outputs": [],
   "source": [
    "model.compile(loss=\"sparse_categorical_crossentropy\", optimizer=\"sgd\", metrics=[\"accuracy\"])"
   ]
  },
  {
   "cell_type": "code",
   "execution_count": 11,
   "metadata": {},
   "outputs": [
    {
     "name": "stdout",
     "output_type": "stream",
     "text": [
      "my_fashion_mnist_model\tmy_fashion_mnist_model.ipynb\n"
     ]
    }
   ],
   "source": [
    "!ls"
   ]
  },
  {
   "cell_type": "code",
   "execution_count": 13,
   "metadata": {},
   "outputs": [],
   "source": [
    "def get_run_logdir(root_logdir=\"my_fashion_mnist_model/my_logs\"):\n",
    "    return Path(root_logdir)/strftime(\"run_%Y_%M_%D_%H_%M_%S\")"
   ]
  },
  {
   "cell_type": "code",
   "execution_count": 15,
   "metadata": {},
   "outputs": [
    {
     "name": "stdout",
     "output_type": "stream",
     "text": [
      "WARNING:tensorflow:`period` argument is deprecated. Please use `save_freq` to specify the frequency in number of batches seen.\n"
     ]
    }
   ],
   "source": [
    "tensorboard_cb = tf.keras.callbacks.TensorBoard(get_run_logdir(), \n",
    "                                                update_freq=\"epoch\")\n",
    "early_stopping_cb = tf.keras.callbacks.EarlyStopping(patience=10,\n",
    "                                                     restore_best_weights=True)\n",
    "checkpoint_cb = tf.keras.callbacks.ModelCheckpoint(\"./my_fashion_mnist_model/respaldo_model.hdf5\",\n",
    "                                                   save_best_only=True,\n",
    "                                                   verbose=1,\n",
    "                                                   period=10)"
   ]
  },
  {
   "cell_type": "code",
   "execution_count": 17,
   "metadata": {},
   "outputs": [
    {
     "name": "stdout",
     "output_type": "stream",
     "text": [
      "Epoch 1/100\n",
      "157/157 [==============================] - 4s 21ms/step - loss: 1.4759 - accuracy: 0.5734 - val_loss: 1.0511 - val_accuracy: 0.6746\n",
      "Epoch 2/100\n",
      "157/157 [==============================] - 3s 19ms/step - loss: 0.8872 - accuracy: 0.7064 - val_loss: 0.8274 - val_accuracy: 0.7275\n",
      "Epoch 3/100\n",
      "157/157 [==============================] - 3s 19ms/step - loss: 0.7355 - accuracy: 0.7504 - val_loss: 0.7311 - val_accuracy: 0.7418\n",
      "Epoch 4/100\n",
      "157/157 [==============================] - 6s 35ms/step - loss: 0.6582 - accuracy: 0.7856 - val_loss: 0.6851 - val_accuracy: 0.7640\n",
      "Epoch 5/100\n",
      "157/157 [==============================] - 3s 20ms/step - loss: 0.6105 - accuracy: 0.7970 - val_loss: 0.6918 - val_accuracy: 0.7648\n",
      "Epoch 6/100\n",
      "157/157 [==============================] - 3s 19ms/step - loss: 0.5794 - accuracy: 0.8128 - val_loss: 0.6015 - val_accuracy: 0.7917\n",
      "Epoch 7/100\n",
      "157/157 [==============================] - 3s 18ms/step - loss: 0.5528 - accuracy: 0.8222 - val_loss: 0.5936 - val_accuracy: 0.7907\n",
      "Epoch 8/100\n",
      "157/157 [==============================] - 3s 18ms/step - loss: 0.5246 - accuracy: 0.8322 - val_loss: 0.5632 - val_accuracy: 0.8064\n",
      "Epoch 9/100\n",
      "157/157 [==============================] - 3s 19ms/step - loss: 0.5080 - accuracy: 0.8382 - val_loss: 0.6318 - val_accuracy: 0.7662\n",
      "Epoch 10/100\n",
      "143/157 [==========================>...] - ETA: 0s - loss: 0.4908 - accuracy: 0.8418\n",
      "Epoch 10: val_loss improved from inf to 0.53262, saving model to ./my_fashion_mnist_model/respaldo_model.hdf5\n",
      "157/157 [==============================] - 3s 19ms/step - loss: 0.4935 - accuracy: 0.8398 - val_loss: 0.5326 - val_accuracy: 0.8181\n",
      "Epoch 11/100\n",
      " 52/157 [========>.....................] - ETA: 0s - loss: 0.4738 - accuracy: 0.8486"
     ]
    },
    {
     "name": "stderr",
     "output_type": "stream",
     "text": [
      "/home/galois/Documents/galois2024/docker-flask-mongoDB-TFserving/.env/lib/python3.10/site-packages/keras/src/engine/training.py:3103: UserWarning: You are saving your model as an HDF5 file via `model.save()`. This file format is considered legacy. We recommend using instead the native Keras format, e.g. `model.save('my_model.keras')`.\n",
      "  saving_api.save_model(\n"
     ]
    },
    {
     "name": "stdout",
     "output_type": "stream",
     "text": [
      "157/157 [==============================] - 3s 19ms/step - loss: 0.4737 - accuracy: 0.8444 - val_loss: 0.5483 - val_accuracy: 0.8100\n",
      "Epoch 12/100\n",
      "157/157 [==============================] - 3s 19ms/step - loss: 0.4638 - accuracy: 0.8510 - val_loss: 0.5634 - val_accuracy: 0.8091\n",
      "Epoch 13/100\n",
      "157/157 [==============================] - 3s 19ms/step - loss: 0.4553 - accuracy: 0.8494 - val_loss: 0.5352 - val_accuracy: 0.8192\n",
      "Epoch 14/100\n",
      "157/157 [==============================] - 3s 19ms/step - loss: 0.4408 - accuracy: 0.8508 - val_loss: 0.5576 - val_accuracy: 0.7985\n",
      "Epoch 15/100\n",
      "157/157 [==============================] - 3s 19ms/step - loss: 0.4266 - accuracy: 0.8594 - val_loss: 0.5787 - val_accuracy: 0.7941\n",
      "Epoch 16/100\n",
      "157/157 [==============================] - 3s 19ms/step - loss: 0.4270 - accuracy: 0.8560 - val_loss: 0.5315 - val_accuracy: 0.8184\n",
      "Epoch 17/100\n",
      "157/157 [==============================] - 3s 19ms/step - loss: 0.4155 - accuracy: 0.8602 - val_loss: 0.5060 - val_accuracy: 0.8268\n",
      "Epoch 18/100\n",
      "157/157 [==============================] - 3s 19ms/step - loss: 0.4038 - accuracy: 0.8666 - val_loss: 0.7443 - val_accuracy: 0.7264\n",
      "Epoch 19/100\n",
      "157/157 [==============================] - 4s 23ms/step - loss: 0.4070 - accuracy: 0.8618 - val_loss: 0.6907 - val_accuracy: 0.7467\n",
      "Epoch 20/100\n",
      "152/157 [============================>.] - ETA: 0s - loss: 0.3906 - accuracy: 0.8697\n",
      "Epoch 20: val_loss did not improve from 0.53262\n",
      "157/157 [==============================] - 3s 20ms/step - loss: 0.3919 - accuracy: 0.8690 - val_loss: 0.5609 - val_accuracy: 0.8148\n",
      "Epoch 21/100\n",
      "157/157 [==============================] - 3s 19ms/step - loss: 0.3857 - accuracy: 0.8732 - val_loss: 0.5324 - val_accuracy: 0.8116\n",
      "Epoch 22/100\n",
      "157/157 [==============================] - 3s 20ms/step - loss: 0.3765 - accuracy: 0.8768 - val_loss: 0.5986 - val_accuracy: 0.7783\n",
      "Epoch 23/100\n",
      "157/157 [==============================] - 3s 20ms/step - loss: 0.3734 - accuracy: 0.8790 - val_loss: 0.4796 - val_accuracy: 0.8349\n",
      "Epoch 24/100\n",
      "157/157 [==============================] - 4s 23ms/step - loss: 0.3618 - accuracy: 0.8828 - val_loss: 0.5065 - val_accuracy: 0.8196\n",
      "Epoch 25/100\n",
      "157/157 [==============================] - 3s 19ms/step - loss: 0.3562 - accuracy: 0.8820 - val_loss: 0.4826 - val_accuracy: 0.8337\n",
      "Epoch 26/100\n",
      "157/157 [==============================] - 3s 19ms/step - loss: 0.3560 - accuracy: 0.8786 - val_loss: 0.5092 - val_accuracy: 0.8228\n",
      "Epoch 27/100\n",
      "157/157 [==============================] - 4s 22ms/step - loss: 0.3502 - accuracy: 0.8806 - val_loss: 0.5369 - val_accuracy: 0.8218\n",
      "Epoch 28/100\n",
      "157/157 [==============================] - 3s 22ms/step - loss: 0.3458 - accuracy: 0.8860 - val_loss: 0.6442 - val_accuracy: 0.7817\n",
      "Epoch 29/100\n",
      "157/157 [==============================] - 3s 20ms/step - loss: 0.3402 - accuracy: 0.8890 - val_loss: 0.8099 - val_accuracy: 0.7531\n",
      "Epoch 30/100\n",
      "149/157 [===========================>..] - ETA: 0s - loss: 0.3372 - accuracy: 0.8901\n",
      "Epoch 30: val_loss improved from 0.53262 to 0.47286, saving model to ./my_fashion_mnist_model/respaldo_model.hdf5\n",
      "157/157 [==============================] - 3s 20ms/step - loss: 0.3394 - accuracy: 0.8896 - val_loss: 0.4729 - val_accuracy: 0.8376\n",
      "Epoch 31/100\n",
      "157/157 [==============================] - 3s 20ms/step - loss: 0.3283 - accuracy: 0.8920 - val_loss: 0.4870 - val_accuracy: 0.8300\n",
      "Epoch 32/100\n",
      "157/157 [==============================] - 3s 20ms/step - loss: 0.3278 - accuracy: 0.8844 - val_loss: 0.4691 - val_accuracy: 0.8415\n",
      "Epoch 33/100\n",
      "157/157 [==============================] - 3s 19ms/step - loss: 0.3189 - accuracy: 0.8940 - val_loss: 0.4741 - val_accuracy: 0.8327\n",
      "Epoch 34/100\n",
      "157/157 [==============================] - 3s 20ms/step - loss: 0.3145 - accuracy: 0.8978 - val_loss: 0.4540 - val_accuracy: 0.8444\n",
      "Epoch 35/100\n",
      "157/157 [==============================] - 3s 20ms/step - loss: 0.3088 - accuracy: 0.8974 - val_loss: 0.4656 - val_accuracy: 0.8415\n",
      "Epoch 36/100\n",
      "157/157 [==============================] - 3s 21ms/step - loss: 0.3076 - accuracy: 0.8996 - val_loss: 0.4670 - val_accuracy: 0.8370\n",
      "Epoch 37/100\n",
      "157/157 [==============================] - 3s 19ms/step - loss: 0.3052 - accuracy: 0.8944 - val_loss: 0.6923 - val_accuracy: 0.7683\n",
      "Epoch 38/100\n",
      "157/157 [==============================] - 3s 19ms/step - loss: 0.3040 - accuracy: 0.9032 - val_loss: 0.5033 - val_accuracy: 0.8329\n",
      "Epoch 39/100\n",
      "157/157 [==============================] - 4s 24ms/step - loss: 0.2969 - accuracy: 0.8972 - val_loss: 0.5049 - val_accuracy: 0.8301\n",
      "Epoch 40/100\n",
      "142/157 [==========================>...] - ETA: 0s - loss: 0.2921 - accuracy: 0.9051\n",
      "Epoch 40: val_loss did not improve from 0.47286\n",
      "157/157 [==============================] - 3s 19ms/step - loss: 0.2921 - accuracy: 0.9056 - val_loss: 0.4855 - val_accuracy: 0.8319\n",
      "Epoch 41/100\n",
      "157/157 [==============================] - 3s 19ms/step - loss: 0.2884 - accuracy: 0.9080 - val_loss: 0.4620 - val_accuracy: 0.8438\n",
      "Epoch 42/100\n",
      "157/157 [==============================] - 3s 19ms/step - loss: 0.2872 - accuracy: 0.9018 - val_loss: 0.4568 - val_accuracy: 0.8434\n",
      "Epoch 43/100\n",
      "157/157 [==============================] - 3s 19ms/step - loss: 0.2769 - accuracy: 0.9094 - val_loss: 0.5876 - val_accuracy: 0.8109\n",
      "Epoch 44/100\n",
      "157/157 [==============================] - 3s 20ms/step - loss: 0.2762 - accuracy: 0.9112 - val_loss: 0.4807 - val_accuracy: 0.8377\n"
     ]
    }
   ],
   "source": [
    "history = model.fit(X_train, y_train, epochs=100, \n",
    "                    validation_data=(X_valid, y_valid),\n",
    "                    callbacks=[tensorboard_cb, checkpoint_cb, early_stopping_cb])"
   ]
  },
  {
   "cell_type": "markdown",
   "metadata": {},
   "source": [
    "## Save"
   ]
  },
  {
   "cell_type": "code",
   "execution_count": 5,
   "metadata": {},
   "outputs": [],
   "source": [
    "model_name = \"my_fashion_mnist_model/versions\"\n",
    "model_version = \"0001\"\n",
    "model_path = Path(model_name) / model_version"
   ]
  },
  {
   "cell_type": "code",
   "execution_count": 21,
   "metadata": {},
   "outputs": [
    {
     "name": "stdout",
     "output_type": "stream",
     "text": [
      "INFO:tensorflow:Assets written to: my_fashion_mnist_model/versions/0001/assets\n"
     ]
    },
    {
     "name": "stderr",
     "output_type": "stream",
     "text": [
      "INFO:tensorflow:Assets written to: my_fashion_mnist_model/versions/0001/assets\n"
     ]
    }
   ],
   "source": [
    "model.save(model_path, save_format=\"tf\")"
   ]
  },
  {
   "cell_type": "code",
   "execution_count": 6,
   "metadata": {},
   "outputs": [
    {
     "name": "stdout",
     "output_type": "stream",
     "text": [
      "2024-02-28 10:42:12.185439: I external/local_tsl/tsl/cuda/cudart_stub.cc:31] Could not find cuda drivers on your machine, GPU will not be used.\n",
      "2024-02-28 10:42:12.232790: E external/local_xla/xla/stream_executor/cuda/cuda_dnn.cc:9261] Unable to register cuDNN factory: Attempting to register factory for plugin cuDNN when one has already been registered\n",
      "2024-02-28 10:42:12.232843: E external/local_xla/xla/stream_executor/cuda/cuda_fft.cc:607] Unable to register cuFFT factory: Attempting to register factory for plugin cuFFT when one has already been registered\n",
      "2024-02-28 10:42:12.233876: E external/local_xla/xla/stream_executor/cuda/cuda_blas.cc:1515] Unable to register cuBLAS factory: Attempting to register factory for plugin cuBLAS when one has already been registered\n",
      "2024-02-28 10:42:12.240536: I external/local_tsl/tsl/cuda/cudart_stub.cc:31] Could not find cuda drivers on your machine, GPU will not be used.\n",
      "2024-02-28 10:42:12.240727: I tensorflow/core/platform/cpu_feature_guard.cc:182] This TensorFlow binary is optimized to use available CPU instructions in performance-critical operations.\n",
      "To enable the following instructions: AVX2 FMA, in other operations, rebuild TensorFlow with the appropriate compiler flags.\n",
      "2024-02-28 10:42:13.170784: W tensorflow/compiler/tf2tensorrt/utils/py_utils.cc:38] TF-TRT Warning: Could not find TensorRT\n",
      "The given SavedModel contains the following tag-sets:\n",
      "'serve'\n"
     ]
    }
   ],
   "source": [
    "!saved_model_cli show --dir \"./my_fashion_mnist_model/versions/0001\""
   ]
  },
  {
   "cell_type": "code",
   "execution_count": 7,
   "metadata": {},
   "outputs": [
    {
     "name": "stdout",
     "output_type": "stream",
     "text": [
      "2024-02-28 10:42:46.550225: I external/local_tsl/tsl/cuda/cudart_stub.cc:31] Could not find cuda drivers on your machine, GPU will not be used.\n",
      "2024-02-28 10:42:46.596811: E external/local_xla/xla/stream_executor/cuda/cuda_dnn.cc:9261] Unable to register cuDNN factory: Attempting to register factory for plugin cuDNN when one has already been registered\n",
      "2024-02-28 10:42:46.596858: E external/local_xla/xla/stream_executor/cuda/cuda_fft.cc:607] Unable to register cuFFT factory: Attempting to register factory for plugin cuFFT when one has already been registered\n",
      "2024-02-28 10:42:46.598700: E external/local_xla/xla/stream_executor/cuda/cuda_blas.cc:1515] Unable to register cuBLAS factory: Attempting to register factory for plugin cuBLAS when one has already been registered\n",
      "2024-02-28 10:42:46.605345: I external/local_tsl/tsl/cuda/cudart_stub.cc:31] Could not find cuda drivers on your machine, GPU will not be used.\n",
      "2024-02-28 10:42:46.605536: I tensorflow/core/platform/cpu_feature_guard.cc:182] This TensorFlow binary is optimized to use available CPU instructions in performance-critical operations.\n",
      "To enable the following instructions: AVX2 FMA, in other operations, rebuild TensorFlow with the appropriate compiler flags.\n",
      "2024-02-28 10:42:47.459039: W tensorflow/compiler/tf2tensorrt/utils/py_utils.cc:38] TF-TRT Warning: Could not find TensorRT\n",
      "The given SavedModel MetaGraphDef contains SignatureDefs with the following keys:\n",
      "SignatureDef key: \"__saved_model_init_op\"\n",
      "SignatureDef key: \"serving_default\"\n"
     ]
    }
   ],
   "source": [
    "!saved_model_cli show --dir \"./my_fashion_mnist_model/versions/0001\" --tag_set serve"
   ]
  },
  {
   "cell_type": "code",
   "execution_count": 8,
   "metadata": {},
   "outputs": [
    {
     "name": "stdout",
     "output_type": "stream",
     "text": [
      "2024-02-28 10:44:17.486277: I external/local_tsl/tsl/cuda/cudart_stub.cc:31] Could not find cuda drivers on your machine, GPU will not be used.\n",
      "2024-02-28 10:44:17.525085: E external/local_xla/xla/stream_executor/cuda/cuda_dnn.cc:9261] Unable to register cuDNN factory: Attempting to register factory for plugin cuDNN when one has already been registered\n",
      "2024-02-28 10:44:17.525122: E external/local_xla/xla/stream_executor/cuda/cuda_fft.cc:607] Unable to register cuFFT factory: Attempting to register factory for plugin cuFFT when one has already been registered\n",
      "2024-02-28 10:44:17.525980: E external/local_xla/xla/stream_executor/cuda/cuda_blas.cc:1515] Unable to register cuBLAS factory: Attempting to register factory for plugin cuBLAS when one has already been registered\n",
      "2024-02-28 10:44:17.531477: I external/local_tsl/tsl/cuda/cudart_stub.cc:31] Could not find cuda drivers on your machine, GPU will not be used.\n",
      "2024-02-28 10:44:17.531644: I tensorflow/core/platform/cpu_feature_guard.cc:182] This TensorFlow binary is optimized to use available CPU instructions in performance-critical operations.\n",
      "To enable the following instructions: AVX2 FMA, in other operations, rebuild TensorFlow with the appropriate compiler flags.\n",
      "2024-02-28 10:44:18.407514: W tensorflow/compiler/tf2tensorrt/utils/py_utils.cc:38] TF-TRT Warning: Could not find TensorRT\n",
      "The given SavedModel SignatureDef contains the following input(s):\n",
      "  inputs['input_1'] tensor_info:\n",
      "      dtype: DT_FLOAT\n",
      "      shape: (-1, 28, 28)\n",
      "      name: serving_default_input_1:0\n",
      "The given SavedModel SignatureDef contains the following output(s):\n",
      "  outputs['dense_2'] tensor_info:\n",
      "      dtype: DT_FLOAT\n",
      "      shape: (-1, 10)\n",
      "      name: StatefulPartitionedCall:0\n",
      "Method name is: tensorflow/serving/predict\n"
     ]
    }
   ],
   "source": [
    "!saved_model_cli show --dir \"./my_fashion_mnist_model/versions/0001\" --tag_set serve --signature_def serving_default"
   ]
  },
  {
   "cell_type": "markdown",
   "metadata": {},
   "source": [
    "## Test connection to TensorFlow serving"
   ]
  },
  {
   "cell_type": "code",
   "execution_count": 9,
   "metadata": {},
   "outputs": [],
   "source": [
    "from tensorflow_serving.apis.predict_pb2 import PredictRequest\n",
    "import grpc\n",
    "from tensorflow_serving.apis import prediction_service_pb2_grpc"
   ]
  },
  {
   "cell_type": "code",
   "execution_count": 25,
   "metadata": {},
   "outputs": [
    {
     "data": {
      "text/plain": [
       "(28, 28)"
      ]
     },
     "execution_count": 25,
     "metadata": {},
     "output_type": "execute_result"
    }
   ],
   "source": [
    "X_new.shape"
   ]
  },
  {
   "cell_type": "code",
   "execution_count": 48,
   "metadata": {},
   "outputs": [],
   "source": [
    "X_new = X_test[1].astype(np.float64)\n",
    "y_new = y_test[1]\n",
    "\n",
    "request = PredictRequest()\n",
    "request.model_spec.name = \"my_mnist_model\"\n",
    "request.model_spec.signature_name = \"serving_default\"\n",
    "input_name = \"input_1\"\n",
    "request.inputs[input_name].CopyFrom(tf.make_tensor_proto(X_new.tolist()))"
   ]
  },
  {
   "cell_type": "code",
   "execution_count": 49,
   "metadata": {},
   "outputs": [],
   "source": [
    "channel = grpc.insecure_channel(\"localhost:8500\")\n",
    "predict_service = prediction_service_pb2_grpc.PredictionServiceStub(channel)\n",
    "response = predict_service.Predict(request, timeout=10.0)"
   ]
  },
  {
   "cell_type": "code",
   "execution_count": 50,
   "metadata": {},
   "outputs": [],
   "source": [
    "output_name = \"dense_2\"\n",
    "output_proto = response.outputs[output_name]\n",
    "y_proba = tf.make_ndarray(output_proto)"
   ]
  },
  {
   "cell_type": "code",
   "execution_count": 51,
   "metadata": {},
   "outputs": [
    {
     "data": {
      "text/plain": [
       "array([2.10805520e-05, 1.18235036e-07, 9.86473560e-01, 3.55332486e-06,\n",
       "       2.76635890e-03, 1.73241033e-09, 1.07340086e-02, 1.79284018e-11,\n",
       "       1.46117588e-06, 2.57127941e-09], dtype=float32)"
      ]
     },
     "execution_count": 51,
     "metadata": {},
     "output_type": "execute_result"
    }
   ],
   "source": [
    "y_proba[0]"
   ]
  },
  {
   "cell_type": "code",
   "execution_count": 52,
   "metadata": {},
   "outputs": [
    {
     "data": {
      "text/plain": [
       "[]"
      ]
     },
     "execution_count": 52,
     "metadata": {},
     "output_type": "execute_result"
    },
    {
     "data": {
      "image/png": "[encoded data removed]",
      "text/plain": [
       "<Figure size 640x480 with 1 Axes>"
      ]
     },
     "metadata": {},
     "output_type": "display_data"
    }
   ],
   "source": [
    "plt.bar(class_names,y_proba[0].round(2))\n",
    "plt.xticks(rotation=45)\n",
    "plt.plot()"
   ]
  },
  {
   "cell_type": "code",
   "execution_count": 53,
   "metadata": {},
   "outputs": [
    {
     "data": {
      "image/png": "[encoded data removed]",
      "text/plain": [
       "<Figure size 640x480 with 1 Axes>"
      ]
     },
     "metadata": {},
     "output_type": "display_data"
    }
   ],
   "source": [
    "plt.imshow(X_new)\n",
    "plt.title(class_names[y_new])\n",
    "plt.show()"
   ]
  },
  {
   "cell_type": "markdown",
   "metadata": {},
   "source": [
    "## Save img with PIL"
   ]
  },
  {
   "cell_type": "markdown",
   "metadata": {},
   "source": [
    "#### To save right, need to invert"
   ]
  },
  {
   "cell_type": "code",
   "execution_count": null,
   "metadata": {},
   "outputs": [],
   "source": [
    "from PIL import Image, ImageOps"
   ]
  },
  {
   "cell_type": "code",
   "execution_count": 88,
   "metadata": {},
   "outputs": [],
   "source": [
    "dumi = X_new*255\n",
    "im = Image.fromarray(dumi.astype('uint8'))\n",
    "im_invert = ImageOps.invert(im)\n",
    "im_invert.save(\"Pullover.png\")"
   ]
  },
  {
   "cell_type": "markdown",
   "metadata": {},
   "source": [
    "#### When load, need to invert too"
   ]
  },
  {
   "cell_type": "code",
   "execution_count": 95,
   "metadata": {},
   "outputs": [],
   "source": [
    "img = Image.open(\"./Pullover.png\")\n",
    "img = ImageOps.invert(img)"
   ]
  },
  {
   "cell_type": "code",
   "execution_count": 96,
   "metadata": {},
   "outputs": [
    {
     "data": {
      "text/plain": [
       "<matplotlib.image.AxesImage at 0x7fd50d366830>"
      ]
     },
     "execution_count": 96,
     "metadata": {},
     "output_type": "execute_result"
    },
    {
     "data": {
      "image/png": "[encoded data removed]",
      "text/plain": [
       "<Figure size 640x480 with 1 Axes>"
      ]
     },
     "metadata": {},
     "output_type": "display_data"
    }
   ],
   "source": [
    "img = np.array(img)\n",
    "img = img/255.\n",
    "plt.imshow(img)"
   ]
  }
 ],
 "metadata": {
  "kernelspec": {
   "display_name": ".env",
   "language": "python",
   "name": "python3"
  },
  "language_info": {
   "codemirror_mode": {
    "name": "ipython",
    "version": 3
   },
   "file_extension": ".py",
   "mimetype": "text/x-python",
   "name": "python",
   "nbconvert_exporter": "python",
   "pygments_lexer": "ipython3",
   "version": "3.9.18"
  }
 },
 "nbformat": 4,
 "nbformat_minor": 2
}
